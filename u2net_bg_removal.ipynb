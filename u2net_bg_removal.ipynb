{
  "nbformat": 4,
  "nbformat_minor": 0,
  "metadata": {
    "colab": {
      "name": "u2net_bg_removal.ipynb",
      "provenance": [],
      "collapsed_sections": []
    },
    "kernelspec": {
      "name": "python3",
      "display_name": "Python 3"
    },
    "accelerator": "GPU"
  },
  "cells": [
    {
      "cell_type": "markdown",
      "metadata": {
        "id": "NDxOLdlGfo-Z"
      },
      "source": [
        "**Image & Video Background Removal using U-2-Net Model**\r\n",
        "\r\n",
        "Author: Nisarg Kapkar\r\n",
        "\r\n",
        "Link to [HashNode Article](https://nisargkapkar.hashnode.dev/image-and-video-background-removal-using-deep-learning)!\r\n",
        "\r\n",
        "NOTE: \r\n",
        "Use this NoteBook in association with the mentioned HashNode article, the article contains detailed information (which is not mentioned in this NoteBook) for various steps!\r\n",
        "\r\n",
        "Link to Github Repository:\r\n",
        "\r\n",
        "*   [Required Files](https://github.com/Nkap23/background_removal_DL)\r\n",
        "*   [Jupyter Notebook](https://github.com/Nkap23/u2net_bgremove_code)\r\n",
        "\r\n",
        "Link to original [U-2-Net repository](https://github.com/NathanUA)\r\n",
        "\r\n"
      ]
    },
    {
      "cell_type": "markdown",
      "metadata": {
        "id": "pRNh3E23fnlX"
      },
      "source": [
        "**STEP 1 - Select the Hardware Accelerator**\r\n",
        "\r\n",
        "Go to Runtime→Change Runtime Type and select Hardware accelerator as GPU."
      ]
    },
    {
      "cell_type": "markdown",
      "metadata": {
        "id": "avBvxS96fx8h"
      },
      "source": [
        "**STEP 2 - Mount Google Drive**"
      ]
    },
    {
      "cell_type": "code",
      "metadata": {
        "id": "S7s8p-KaEV-k"
      },
      "source": [
        "from google.colab import drive \r\n",
        "drive.mount('/content/gdrive')"
      ],
      "execution_count": null,
      "outputs": []
    },
    {
      "cell_type": "markdown",
      "metadata": {
        "id": "5Qp8FXBIf8To"
      },
      "source": [
        "**STEP 3 - Download the Model and Required Files** \r\n",
        "\r\n",
        "Refer to STEP 3 in [HashNode Article](https://nisargkapkar.hashnode.dev/image-and-video-background-removal-using-deep-learning) for more details!"
      ]
    },
    {
      "cell_type": "code",
      "metadata": {
        "id": "7FJsNSC3WtZ9"
      },
      "source": [
        "#cd into drive and clone the repo\r\n",
        "%cd '/content/gdrive/MyDrive'\r\n",
        "!git clone https://github.com/Nkap23/background_removal_DL.git"
      ],
      "execution_count": null,
      "outputs": []
    },
    {
      "cell_type": "markdown",
      "metadata": {
        "id": "o_-zjAyugXC4"
      },
      "source": [
        "**STEP 4 - Import Required Libraries and Functions**"
      ]
    },
    {
      "cell_type": "code",
      "metadata": {
        "id": "8JUL559FYUu3"
      },
      "source": [
        "#importing required libraries \r\n",
        "from cv2 import cv2 \r\n",
        "from PIL import Image"
      ],
      "execution_count": 28,
      "outputs": []
    },
    {
      "cell_type": "markdown",
      "metadata": {
        "id": "saIcG7NEgZ3R"
      },
      "source": [
        "**STEP 5 - Uploading Image/Video for Background Removal**\r\n",
        "\r\n",
        "Refer to STEP 5 in [HashNode Article](https://nisargkapkar.hashnode.dev/image-and-video-background-removal-using-deep-learning) for more details!"
      ]
    },
    {
      "cell_type": "markdown",
      "metadata": {
        "id": "3dAf-HWugerW"
      },
      "source": [
        "**STEP 6A - Running the Interface for Images**\r\n",
        "\r\n",
        "Refer to STEP 6A in [HashNode Article](https://nisargkapkar.hashnode.dev/image-and-video-background-removal-using-deep-learning) for more details!"
      ]
    },
    {
      "cell_type": "code",
      "metadata": {
        "id": "ORgMKCtUYkSO"
      },
      "source": [
        "#for image\r\n",
        "\r\n",
        "%cd '/content/gdrive/MyDrive/background_removal_DL/test_data/images'\r\n",
        "!mkdir u2net_results\r\n",
        "\r\n",
        "%cd '/content/gdrive/MyDrive/background_removal_DL'\r\n",
        "!python u2net_image.py \r\n",
        "\r\n",
        "#u2netresult\r\n",
        "u2netresult=cv2.imread('/content/gdrive/MyDrive/background_removal_DL/test_data/images/u2net_results/input.png')\r\n",
        "#orginalimage (CHANGE FILE EXTENSION HERE - BY DEFAULT: *.jpg)\r\n",
        "original=cv2.imread('/content/gdrive/MyDrive/background_removal_DL/test_data/images/input/input.jpg')\r\n",
        "#subimage\r\n",
        "subimage=cv2.subtract(u2netresult,original)\r\n",
        "cv2.imwrite('/content/gdrive/MyDrive/background_removal_DL/test_data/images/output/output.png',subimage)\r\n",
        "\r\n",
        "#subimage\r\n",
        "subimage=Image.open('/content/gdrive/MyDrive/background_removal_DL/test_data/images/output/output.png')\r\n",
        "#originalimage\r\n",
        "original=Image.open('/content/gdrive/MyDrive/background_removal_DL/test_data/images/input/input.jpg')\r\n",
        "\r\n",
        "subimage=subimage.convert(\"RGBA\")\r\n",
        "original=original.convert(\"RGBA\")\r\n",
        "\r\n",
        "subdata=subimage.getdata()\r\n",
        "ogdata=original.getdata()\r\n",
        "\r\n",
        "newdata=[]\r\n",
        "for i in range(subdata.size[0]*subdata.size[1]):\r\n",
        "  if subdata[i][0]==0 and subdata[i][1]==0 and subdata[i][2]==0:\r\n",
        "    newdata.append((255,255,255,0))\r\n",
        "  else:\r\n",
        "    newdata.append(ogdata[i])\r\n",
        "subimage.putdata(newdata)\r\n",
        "subimage.save('/content/gdrive/MyDrive/background_removal_DL/test_data/images/output/output.png',\"PNG\")\r\n",
        "\r\n",
        "%cd '/content/gdrive/MyDrive/background_removal_DL/test_data/images'\r\n",
        "!rm -R u2net_results"
      ],
      "execution_count": null,
      "outputs": []
    },
    {
      "cell_type": "markdown",
      "metadata": {
        "id": "_93z7rKGgkkK"
      },
      "source": [
        "**STEP 6B - Running the Interface for Videos**\r\n",
        "\r\n",
        "Refer to STEP 6B in [HashNode Article](https://nisargkapkar.hashnode.dev/image-and-video-background-removal-using-deep-learning) for more details!"
      ]
    },
    {
      "cell_type": "code",
      "metadata": {
        "id": "EssxbbJ5gldO"
      },
      "source": [
        "#for video \r\n",
        "\r\n",
        "%cd '/content/gdrive/MyDrive/background_removal_DL/test_data/videos'\r\n",
        "!mkdir input_frames\r\n",
        "!mkdir output_frames \r\n",
        "!mkdir u2net_results \r\n",
        "\r\n",
        "#CHANGE INPUT FILE EXTENSION HERE - BY DEFAULT: *.mp4\r\n",
        "video=cv2.VideoCapture('/content/gdrive/MyDrive/background_removal_DL/test_data/videos/input/input.mp4')\r\n",
        "fps=video.get(cv2.CAP_PROP_FPS)\r\n",
        "count=0\r\n",
        "flag=1\r\n",
        "while flag:\r\n",
        "  flag,image=video.read()\r\n",
        "  if flag==0:\r\n",
        "    break\r\n",
        "  cv2.imwrite('/content/gdrive/MyDrive/background_removal_DL/test_data/videos/input_frames/'+'input'+str(count)+'.png',image)\r\n",
        "  count=count+1\r\n",
        "\r\n",
        "%cd '/content/gdrive/MyDrive/background_removal_DL'\r\n",
        "!python u2net_video.py \r\n",
        "\r\n",
        "img_array=[]\r\n",
        "\r\n",
        "for i in range(count):\r\n",
        "\r\n",
        "  #u2netreusult\r\n",
        "  u2netresult=cv2.imread('/content/gdrive/MyDrive/background_removal_DL/test_data/videos/u2net_results/input'+str(i)+'.png')\r\n",
        "  #original\r\n",
        "  original=cv2.imread('/content/gdrive/MyDrive/background_removal_DL/test_data/videos/input_frames/input'+str(i)+'.png')\r\n",
        "  #subimage\r\n",
        "  subimage=cv2.subtract(u2netresult,original)\r\n",
        "  cv2.imwrite('/content/gdrive/MyDrive/background_removal_DL/test_data/videos/output_frames/output'+str(i)+'.png',subimage)\r\n",
        "\r\n",
        "  #subimage\r\n",
        "  subimage=Image.open('/content/gdrive/MyDrive/background_removal_DL/test_data/videos/output_frames/output'+str(i)+'.png')\r\n",
        "  #original\r\n",
        "  original=Image.open('/content/gdrive/MyDrive/background_removal_DL/test_data/videos/input_frames/input'+str(i)+'.png')\r\n",
        "\r\n",
        "  subimage=subimage.convert(\"RGBA\")\r\n",
        "  original=original.convert(\"RGBA\")\r\n",
        "\r\n",
        "  subdata=subimage.getdata()\r\n",
        "  ogdata=original.getdata()\r\n",
        "\r\n",
        "  newdata=[]\r\n",
        "  for i in range(subdata.size[0]*subdata.size[1]):\r\n",
        "    if subdata[i][0]==0 and subdata[i][1]==0 and subdata[i][2]==0:\r\n",
        "      newdata.append((255,255,255,0))\r\n",
        "    else:\r\n",
        "      newdata.append(ogdata[i])\r\n",
        "  subimage.putdata(newdata)\r\n",
        "  subimage.save('/content/gdrive/MyDrive/background_removal_DL/test_data/videos/output_frames/output'+str(i)+'.png',\"PNG\")\r\n",
        "\r\n",
        "  final_img=cv2.imread('/content/gdrive/MyDrive/background_removal_DL/test_data/videos/output_frames/output'+str(i)+'.png')\r\n",
        "  ht,wd,l=final_img.shape\r\n",
        "  sz=(wd,ht)\r\n",
        "  img_array.append(final_img)\r\n",
        "\r\n",
        "#CHANGE OUTPUT FILE EXTENSION HERE - BY DEFAULT: *.mp4\r\n",
        "outv=cv2.VideoWriter('/content/gdrive/MyDrive/background_removal_DL/test_data/videos/output/output.mp4',cv2.VideoWriter_fourcc(*'MP4V'),fps,sz)\r\n",
        "\r\n",
        "for i in img_array:\r\n",
        "  outv.write(i)\r\n",
        "  \r\n",
        "outv.release()\r\n",
        "\r\n",
        "%cd '/content/gdrive/MyDrive/background_removal_DL/test_data/videos'\r\n",
        "!rm -R u2net_results\r\n",
        "!rm -R input_frames\r\n",
        "!rm -R output_frames"
      ],
      "execution_count": null,
      "outputs": []
    }
  ]
}